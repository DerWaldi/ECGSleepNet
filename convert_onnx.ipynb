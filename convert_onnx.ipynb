{
 "cells": [
  {
   "cell_type": "code",
   "execution_count": 5,
   "id": "2a545c3c",
   "metadata": {},
   "outputs": [],
   "source": [
    "import torch\n",
    "import model"
   ]
  },
  {
   "cell_type": "markdown",
   "id": "62afc26f",
   "metadata": {},
   "source": [
    "## load checkpoint"
   ]
  },
  {
   "cell_type": "code",
   "execution_count": 6,
   "id": "e54d7d40",
   "metadata": {},
   "outputs": [
    {
     "data": {
      "text/plain": [
       "ResnetBlock(\n",
       "  (head): Sequential(\n",
       "    (conv1): Conv1d(1, 32, kernel_size=(33,), stride=(1,), padding=(16,), bias=False)\n",
       "    (bn1): BatchNorm1d(32, eps=1e-05, momentum=0.1, affine=True, track_running_stats=True)\n",
       "    (relu1): ReLU()\n",
       "  )\n",
       "  (layers): Sequential(\n",
       "    (basicblock_0): BasicBlock(\n",
       "      (conv1): Conv1d(32, 32, kernel_size=(13,), stride=(1,), padding=(6,), bias=False)\n",
       "      (bn1): BatchNorm1d(32, eps=1e-05, momentum=0.1, affine=True, track_running_stats=True)\n",
       "      (relu1): ReLU()\n",
       "      (conv2): Conv1d(32, 32, kernel_size=(13,), stride=(1,), padding=(6,), bias=False)\n",
       "      (bn2): BatchNorm1d(32, eps=1e-05, momentum=0.1, affine=True, track_running_stats=True)\n",
       "      (relu2): ReLU()\n",
       "      (maxpool): MaxPool1d(kernel_size=3, stride=1, padding=1, dilation=1, ceil_mode=False)\n",
       "    )\n",
       "    (basicblock_1): BasicBlock(\n",
       "      (conv1): Conv1d(32, 32, kernel_size=(13,), stride=(1,), padding=(6,), bias=False)\n",
       "      (bn1): BatchNorm1d(32, eps=1e-05, momentum=0.1, affine=True, track_running_stats=True)\n",
       "      (relu1): ReLU()\n",
       "      (conv2): Conv1d(32, 32, kernel_size=(13,), stride=(2,), padding=(6,), bias=False)\n",
       "      (bn2): BatchNorm1d(32, eps=1e-05, momentum=0.1, affine=True, track_running_stats=True)\n",
       "      (relu2): ReLU()\n",
       "      (maxpool): MaxPool1d(kernel_size=3, stride=2, padding=1, dilation=1, ceil_mode=False)\n",
       "    )\n",
       "    (basicblock_2): BasicBlock(\n",
       "      (conv1): Conv1d(32, 32, kernel_size=(13,), stride=(1,), padding=(6,), bias=False)\n",
       "      (bn1): BatchNorm1d(32, eps=1e-05, momentum=0.1, affine=True, track_running_stats=True)\n",
       "      (relu1): ReLU()\n",
       "      (conv2): Conv1d(32, 32, kernel_size=(13,), stride=(2,), padding=(6,), bias=False)\n",
       "      (bn2): BatchNorm1d(32, eps=1e-05, momentum=0.1, affine=True, track_running_stats=True)\n",
       "      (relu2): ReLU()\n",
       "      (maxpool): MaxPool1d(kernel_size=3, stride=2, padding=1, dilation=1, ceil_mode=False)\n",
       "    )\n",
       "    (basicblock_3): BasicBlock(\n",
       "      (conv1): Conv1d(32, 32, kernel_size=(13,), stride=(1,), padding=(6,), bias=False)\n",
       "      (bn1): BatchNorm1d(32, eps=1e-05, momentum=0.1, affine=True, track_running_stats=True)\n",
       "      (relu1): ReLU()\n",
       "      (conv2): Conv1d(32, 32, kernel_size=(13,), stride=(2,), padding=(6,), bias=False)\n",
       "      (bn2): BatchNorm1d(32, eps=1e-05, momentum=0.1, affine=True, track_running_stats=True)\n",
       "      (relu2): ReLU()\n",
       "      (maxpool): MaxPool1d(kernel_size=3, stride=2, padding=1, dilation=1, ceil_mode=False)\n",
       "    )\n",
       "    (basicblock_4): BasicBlock(\n",
       "      (conv1): Conv1d(32, 32, kernel_size=(13,), stride=(1,), padding=(6,), bias=False)\n",
       "      (bn1): BatchNorm1d(32, eps=1e-05, momentum=0.1, affine=True, track_running_stats=True)\n",
       "      (relu1): ReLU()\n",
       "      (conv2): Conv1d(32, 32, kernel_size=(13,), stride=(2,), padding=(6,), bias=False)\n",
       "      (bn2): BatchNorm1d(32, eps=1e-05, momentum=0.1, affine=True, track_running_stats=True)\n",
       "      (relu2): ReLU()\n",
       "      (maxpool): MaxPool1d(kernel_size=3, stride=2, padding=1, dilation=1, ceil_mode=False)\n",
       "    )\n",
       "    (basicblock_5): BasicBlock(\n",
       "      (conv1): Conv1d(32, 32, kernel_size=(13,), stride=(1,), padding=(6,), bias=False)\n",
       "      (bn1): BatchNorm1d(32, eps=1e-05, momentum=0.1, affine=True, track_running_stats=True)\n",
       "      (relu1): ReLU()\n",
       "      (conv2): Conv1d(32, 32, kernel_size=(13,), stride=(2,), padding=(6,), bias=False)\n",
       "      (bn2): BatchNorm1d(32, eps=1e-05, momentum=0.1, affine=True, track_running_stats=True)\n",
       "      (relu2): ReLU()\n",
       "      (maxpool): MaxPool1d(kernel_size=3, stride=2, padding=1, dilation=1, ceil_mode=False)\n",
       "    )\n",
       "    (basicblock_6): BasicBlock(\n",
       "      (conv1): Conv1d(32, 32, kernel_size=(13,), stride=(1,), padding=(6,), bias=False)\n",
       "      (bn1): BatchNorm1d(32, eps=1e-05, momentum=0.1, affine=True, track_running_stats=True)\n",
       "      (relu1): ReLU()\n",
       "      (conv2): Conv1d(32, 32, kernel_size=(13,), stride=(2,), padding=(6,), bias=False)\n",
       "      (bn2): BatchNorm1d(32, eps=1e-05, momentum=0.1, affine=True, track_running_stats=True)\n",
       "      (relu2): ReLU()\n",
       "      (maxpool): MaxPool1d(kernel_size=3, stride=2, padding=1, dilation=1, ceil_mode=False)\n",
       "    )\n",
       "    (basicblock_7): BasicBlock(\n",
       "      (conv1): Conv1d(32, 32, kernel_size=(13,), stride=(1,), padding=(6,), bias=False)\n",
       "      (bn1): BatchNorm1d(32, eps=1e-05, momentum=0.1, affine=True, track_running_stats=True)\n",
       "      (relu1): ReLU()\n",
       "      (conv2): Conv1d(32, 32, kernel_size=(13,), stride=(2,), padding=(6,), bias=False)\n",
       "      (bn2): BatchNorm1d(32, eps=1e-05, momentum=0.1, affine=True, track_running_stats=True)\n",
       "      (relu2): ReLU()\n",
       "      (maxpool): MaxPool1d(kernel_size=3, stride=2, padding=1, dilation=1, ceil_mode=False)\n",
       "    )\n",
       "  )\n",
       "  (tail): Sequential(\n",
       "    (conv1): Conv1d(32, 32, kernel_size=(3,), stride=(2,), padding=(1,), bias=False)\n",
       "    (bn1): BatchNorm1d(32, eps=1e-05, momentum=0.1, affine=True, track_running_stats=True)\n",
       "    (relu1): ReLU()\n",
       "  )\n",
       "  (tail_maxpool): MaxPool1d(kernel_size=3, stride=2, padding=1, dilation=1, ceil_mode=False)\n",
       "  (lstm): LSTM(32, 32, batch_first=True)\n",
       "  (dropout): Dropout(p=0.5, inplace=False)\n",
       "  (classifier): Sequential(\n",
       "    (fc1): Linear(in_features=480, out_features=144, bias=True)\n",
       "    (bn1): BatchNorm1d(144, eps=1e-05, momentum=0.1, affine=True, track_running_stats=True)\n",
       "    (relu1): ReLU()\n",
       "    (fc2): Linear(in_features=144, out_features=48, bias=True)\n",
       "    (fc3): Linear(in_features=48, out_features=5, bias=True)\n",
       "  )\n",
       ")"
      ]
     },
     "execution_count": 6,
     "metadata": {},
     "output_type": "execute_result"
    }
   ],
   "source": [
    "classes = 5\n",
    "\n",
    "net = model.ResnetBlock(block=model.BasicBlock, block_stride=[1, 2, 2, 2, 2, 2, 2, 2],\n",
    "                            in_channel=1, out_channel=32, classes=classes)\n",
    "net.load_state_dict(torch.load('./trained_model_5/100.pt'))\n",
    "net.eval()"
   ]
  },
  {
   "cell_type": "markdown",
   "id": "b3e77f34",
   "metadata": {},
   "source": [
    "## convert to onnx"
   ]
  },
  {
   "cell_type": "code",
   "execution_count": 13,
   "id": "a05e8375",
   "metadata": {},
   "outputs": [
    {
     "name": "stderr",
     "output_type": "stream",
     "text": [
      "c:\\Github\\ECGSleepNet\\model.py:103: TracerWarning: Using len to get tensor shape might cause the trace to be incorrect. Recommended usage would be tensor.shape[0]. Passing a tensor of different shape might lead to errors or silently give incorrect results.\n",
      "  self.current_batch = len(x)\n",
      "c:\\Users\\murgu\\.conda\\envs\\cuda11\\lib\\site-packages\\torch\\onnx\\symbolic_opset9.py:4476: UserWarning: Exporting a model to ONNX with a batch_size other than 1, with a variable length with LSTM can cause an error when running the ONNX model with a different batch size. Make sure to save the model with a batch size of 1, or define the initial states (h0/c0) as inputs of the model. \n",
      "  warnings.warn(\n"
     ]
    },
    {
     "name": "stdout",
     "output_type": "stream",
     "text": [
      "============= Diagnostic Run torch.onnx.export version 2.0.0+cu117 =============\n",
      "verbose: False, log level: Level.ERROR\n",
      "======================= 0 NONE 0 NOTE 0 WARNING 0 ERROR ========================\n",
      "\n"
     ]
    }
   ],
   "source": [
    "example_inputs = torch.randn(1, 1, 3750)\n",
    "\n",
    "onnx_export_path = 'trained_model_5.onnx'\n",
    "\n",
    "torch.onnx.export(\n",
    "    net.cpu(),\n",
    "    example_inputs.cpu(),\n",
    "    onnx_export_path,\n",
    "    export_params=True,\n",
    "    # dynamo=True,\n",
    "    # input_names=[\"input\"],\n",
    "    # output_names=[\"reg_onset_output\", \"reg_offset_output\", \"frame_output\"],\n",
    "    # dynamic_axes = {\n",
    "    #     \"input\"             : {0: \"batch_size\", 1: \"audio_len\"},\n",
    "    #     \"reg_onset_output\"  : {0: \"batch_size\", 1: \"time_steps\"},\n",
    "    #     \"reg_offset_output\" : {0: \"batch_size\", 1: \"time_steps\"},\n",
    "    #     \"frame_output\"      : {0: \"batch_size\", 1: \"time_steps\"},\n",
    "    # },\n",
    "    opset_version=17,\n",
    "    do_constant_folding=True,\n",
    ")"
   ]
  },
  {
   "cell_type": "code",
   "execution_count": 14,
   "id": "fc67a913",
   "metadata": {},
   "outputs": [],
   "source": [
    "import onnx\n",
    "import onnxruntime as ort\n",
    "from onnxruntime.quantization import quantize_dynamic, QuantType\n",
    "\n",
    "# validate the export\n",
    "onnx_model = onnx.load(onnx_export_path)\n",
    "onnx.checker.check_model(onnx_model)"
   ]
  },
  {
   "cell_type": "code",
   "execution_count": 16,
   "id": "050c63cf",
   "metadata": {},
   "outputs": [],
   "source": [
    "# validate the export\n",
    "onnx_model = onnx.load(onnx_export_path)\n",
    "onnx.checker.check_model(onnx_model)\n",
    "\n",
    "# %%\n",
    "# ceating an onnxruntime session\n",
    "PROVIDER = 'CPUExecutionProvider' \n",
    "\n",
    "onnx_session = ort.InferenceSession(onnx_export_path, providers=[PROVIDER]) # CPU\n",
    "\n",
    "x_onnx = example_inputs.cpu().numpy()\n",
    "ort_inputs = {\"x\": x_onnx}\n",
    "ort_outs = onnx_session.run(None, ort_inputs)\n"
   ]
  },
  {
   "cell_type": "code",
   "execution_count": 17,
   "id": "e5d08bd7",
   "metadata": {},
   "outputs": [
    {
     "data": {
      "text/plain": [
       "[array([[ 4.726025  , -1.0704551 , -1.4170607 , -0.83633757, -0.83888346]],\n",
       "       dtype=float32)]"
      ]
     },
     "execution_count": 17,
     "metadata": {},
     "output_type": "execute_result"
    }
   ],
   "source": [
    "ort_outs"
   ]
  },
  {
   "cell_type": "code",
   "execution_count": null,
   "id": "b9ca0696",
   "metadata": {},
   "outputs": [],
   "source": []
  }
 ],
 "metadata": {
  "kernelspec": {
   "display_name": "cuda11",
   "language": "python",
   "name": "python3"
  },
  "language_info": {
   "codemirror_mode": {
    "name": "ipython",
    "version": 3
   },
   "file_extension": ".py",
   "mimetype": "text/x-python",
   "name": "python",
   "nbconvert_exporter": "python",
   "pygments_lexer": "ipython3",
   "version": "3.9.16"
  }
 },
 "nbformat": 4,
 "nbformat_minor": 5
}
